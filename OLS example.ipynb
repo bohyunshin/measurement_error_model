{
 "cells": [
  {
   "cell_type": "code",
   "execution_count": 6,
   "metadata": {},
   "outputs": [],
   "source": [
    "import pickle\n",
    "import numpy as np\n",
    "\n",
    "from sklearn.linear_model import LinearRegression\n",
    "import statsmodels.api as sm"
   ]
  },
  {
   "cell_type": "code",
   "execution_count": 76,
   "metadata": {},
   "outputs": [],
   "source": [
    "beta0 = -1\n",
    "beta1 = 1\n",
    "s2_ep = 1\n",
    "n = 12000\n",
    "\n",
    "np.random.seed(1)\n",
    "ep = np.random.normal(0, np.sqrt(s2_ep), n)\n",
    "# observed\n",
    "x = np.random.uniform(10, 40, n)\n",
    "y = beta0 + beta1*x + ep\n",
    "x = sm.add_constant(x)"
   ]
  },
  {
   "cell_type": "code",
   "execution_count": 77,
   "metadata": {},
   "outputs": [],
   "source": [
    "mod = sm.OLS(y,x)\n",
    "res = mod.fit()"
   ]
  },
  {
   "cell_type": "code",
   "execution_count": 78,
   "metadata": {},
   "outputs": [
    {
     "name": "stdout",
     "output_type": "stream",
     "text": [
      "                            OLS Regression Results                            \n",
      "==============================================================================\n",
      "Dep. Variable:                      y   R-squared:                       0.987\n",
      "Model:                            OLS   Adj. R-squared:                  0.987\n",
      "Method:                 Least Squares   F-statistic:                 9.044e+05\n",
      "Date:                Fri, 20 Nov 2020   Prob (F-statistic):               0.00\n",
      "Time:                        20:19:50   Log-Likelihood:                -17021.\n",
      "No. Observations:               12000   AIC:                         3.405e+04\n",
      "Df Residuals:                   11998   BIC:                         3.406e+04\n",
      "Df Model:                           1                                         \n",
      "Covariance Type:            nonrobust                                         \n",
      "==============================================================================\n",
      "                 coef    std err          t      P>|t|      [0.025      0.975]\n",
      "------------------------------------------------------------------------------\n",
      "const         -1.0165      0.028    -36.483      0.000      -1.071      -0.962\n",
      "x1             1.0011      0.001    950.994      0.000       0.999       1.003\n",
      "==============================================================================\n",
      "Omnibus:                        0.271   Durbin-Watson:                   2.038\n",
      "Prob(Omnibus):                  0.873   Jarque-Bera (JB):                0.264\n",
      "Skew:                           0.011   Prob(JB):                        0.876\n",
      "Kurtosis:                       3.004   Cond. No.                         80.9\n",
      "==============================================================================\n",
      "\n",
      "Warnings:\n",
      "[1] Standard Errors assume that the covariance matrix of the errors is correctly specified.\n"
     ]
    }
   ],
   "source": [
    "print(res.summary())"
   ]
  },
  {
   "cell_type": "code",
   "execution_count": 79,
   "metadata": {},
   "outputs": [
    {
     "data": {
      "text/plain": [
       "0.9990907841340279"
      ]
     },
     "execution_count": 79,
     "metadata": {},
     "output_type": "execute_result"
    }
   ],
   "source": [
    "np.power(res.resid, 2).sum() / (len(y) - 2)"
   ]
  },
  {
   "cell_type": "code",
   "execution_count": null,
   "metadata": {},
   "outputs": [],
   "source": []
  },
  {
   "cell_type": "code",
   "execution_count": null,
   "metadata": {},
   "outputs": [],
   "source": []
  }
 ],
 "metadata": {
  "kernelspec": {
   "display_name": "Python 3",
   "language": "python",
   "name": "python3"
  },
  "language_info": {
   "codemirror_mode": {
    "name": "ipython",
    "version": 3
   },
   "file_extension": ".py",
   "mimetype": "text/x-python",
   "name": "python",
   "nbconvert_exporter": "python",
   "pygments_lexer": "ipython3",
   "version": "3.7.6"
  }
 },
 "nbformat": 4,
 "nbformat_minor": 4
}
